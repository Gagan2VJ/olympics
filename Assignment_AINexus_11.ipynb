{
 "cells": [
  {
   "cell_type": "markdown",
   "id": "8841a357d79c446d",
   "metadata": {},
   "source": [
    "## Trying to return List contain all files in directory even fetch subdirectory file"
   ]
  },
  {
   "cell_type": "code",
   "execution_count": 37,
   "id": "af0592a4f6972217",
   "metadata": {
    "ExecuteTime": {
     "end_time": "2024-12-21T15:58:38.997016Z",
     "start_time": "2024-12-21T15:58:38.991773Z"
    }
   },
   "source": [
    "import os\n",
    "def list_file(path):\n",
    "    list_a=[]\n",
    "    try:\n",
    "        for i in os.walk(path):\n",
    "            list_a.extend(i[-1])\n",
    "        return list_a\n",
    "    except Exception as e:\n",
    "        print(e)"
   ],
   "outputs": []
  },
  {
   "attachments": {
    "257488ff-f173-4e41-b86f-898db0c72900.png": {
     "image/png": "[encoded data removed]"
    }
   },
   "cell_type": "markdown",
   "id": "ca827ed24fbfb153",
   "metadata": {},
   "source": [
    "![image.png](attachment:257488ff-f173-4e41-b86f-898db0c72900.png)"
   ]
  },
  {
   "cell_type": "code",
   "execution_count": 39,
   "id": "8bbe5d6d3ee9ff1a",
   "metadata": {
    "ExecuteTime": {
     "end_time": "2024-12-21T15:58:41.107950Z",
     "start_time": "2024-12-21T15:58:41.100178Z"
    }
   },
   "source": [
    "path='directory 1'\n",
    "list_file(path)"
   ],
   "outputs": []
  },
  {
   "cell_type": "code",
   "id": "d7c3b743b5a0680c",
   "metadata": {
    "ExecuteTime": {
     "end_time": "2024-12-22T07:08:29.840150Z",
     "start_time": "2024-12-22T07:08:29.835859Z"
    }
   },
   "source": "import os",
   "execution_count": 2,
   "outputs": []
  },
  {
   "metadata": {
    "ExecuteTime": {
     "end_time": "2024-12-22T07:12:47.045824Z",
     "start_time": "2024-12-22T07:12:47.038965Z"
    }
   },
   "cell_type": "code",
   "source": [
    "list_a=[]\n",
    "count=1\n",
    "for file in os.walk('directory 1'):\n",
    "    print(count)\n",
    "    print(file[-1])\n",
    "    count+=1"
   ],
   "id": "2fd3bb114f99696",
   "execution_count": 13,
   "outputs": []
  },
  {
   "metadata": {},
   "cell_type": "code",
   "execution_count": null,
   "source": "",
   "id": "ed417242d0aa94c0",
   "outputs": []
  },
  {
   "metadata": {
    "ExecuteTime": {
     "end_time": "2024-12-22T07:14:12.601391Z",
     "start_time": "2024-12-22T07:14:12.596049Z"
    }
   },
   "cell_type": "code",
   "source": [
    "path='directory 1'\n",
    "def list_file(path):\n",
    "    list_a=[]\n",
    "    for i in os.walk(path):\n",
    "        list_a.extend(i[-1])\n",
    "    return list_a"
   ],
   "id": "90688ecf03debca2",
   "execution_count": 15,
   "outputs": []
  },
  {
   "metadata": {
    "ExecuteTime": {
     "end_time": "2024-12-22T07:14:57.199296Z",
     "start_time": "2024-12-22T07:14:57.192221Z"
    }
   },
   "cell_type": "code",
   "source": "list_file(path)",
   "id": "261eaf13187ab9e9",
   "execution_count": 17,
   "outputs": []
  },
  {
   "metadata": {
    "ExecuteTime": {
     "end_time": "2024-12-22T07:14:57.239030Z",
     "start_time": "2024-12-22T07:14:57.235134Z"
    }
   },
   "cell_type": "code",
   "source": "",
   "id": "9b19a696471ef469",
   "execution_count": 17,
   "outputs": []
  },
  {
   "metadata": {
    "ExecuteTime": {
     "end_time": "2024-12-22T07:16:29.722673Z",
     "start_time": "2024-12-22T07:16:29.716677Z"
    }
   },
   "cell_type": "code",
   "source": [
    "list_a=os.listdir('directory 1/directory 2')\n",
    "list_a"
   ],
   "id": "873f6d3d5153b363",
   "execution_count": 24,
   "outputs": []
  },
  {
   "metadata": {
    "ExecuteTime": {
     "end_time": "2024-12-22T07:20:21.777511Z",
     "start_time": "2024-12-22T07:20:21.774405Z"
    }
   },
   "cell_type": "code",
   "source": [
    "text=\"\"\"\n",
    "I am good oce\n",
    "sdf\n",
    "asdf\n",
    "sdfg rgtffd\n",
    "dfg\n",
    "sfdg\n",
    "\n",
    "\"\"\""
   ],
   "id": "2948a11666f261ce",
   "execution_count": 51,
   "outputs": []
  },
  {
   "metadata": {
    "ExecuteTime": {
     "end_time": "2024-12-22T07:22:47.277242Z",
     "start_time": "2024-12-22T07:22:47.272193Z"
    }
   },
   "cell_type": "code",
   "source": [
    "list_a=text.splitlines()\n",
    "for i in list_a:\n",
    "    for j in i.split(\" \"):\n",
    "        if j=='sdf' or j=='asdf':\n",
    "            print(j)"
   ],
   "id": "a4a73c3bc3cb0d6b",
   "execution_count": 54,
   "outputs": []
  },
  {
   "metadata": {
    "ExecuteTime": {
     "end_time": "2024-12-22T07:23:01.391754Z",
     "start_time": "2024-12-22T07:23:01.386103Z"
    }
   },
   "cell_type": "code",
   "source": [
    "list_a=text.splitlines()\n",
    "list_a"
   ],
   "id": "656b62e6b33bf772",
   "execution_count": 55,
   "outputs": []
  },
  {
   "metadata": {
    "ExecuteTime": {
     "end_time": "2024-12-22T07:24:29.174734Z",
     "start_time": "2024-12-22T07:24:29.170673Z"
    }
   },
   "cell_type": "code",
   "source": [
    "for i in list_a:\n",
    "    for j in i.split(\" \"):\n",
    "        if j=='sdf' or j=='asdf':\n",
    "            print(j)"
   ],
   "id": "bdce47695a2024ef",
   "execution_count": 59,
   "outputs": []
  },
  {
   "metadata": {
    "ExecuteTime": {
     "end_time": "2024-12-22T07:28:10.426798Z",
     "start_time": "2024-12-22T07:28:10.421798Z"
    }
   },
   "cell_type": "code",
   "source": "",
   "id": "22fca237af1c3de1",
   "execution_count": 68,
   "outputs": []
  },
  {
   "metadata": {
    "ExecuteTime": {
     "end_time": "2024-12-22T07:27:45.600959Z",
     "start_time": "2024-12-22T07:27:45.597555Z"
    }
   },
   "cell_type": "code",
   "source": [
    "# read()\n",
    "# readline()\n",
    "# readlines()\n"
   ],
   "id": "f5b46513f83a1c51",
   "execution_count": 62,
   "outputs": []
  },
  {
   "metadata": {
    "ExecuteTime": {
     "end_time": "2024-12-22T07:28:30.720973Z",
     "start_time": "2024-12-22T07:28:30.713469Z"
    }
   },
   "cell_type": "code",
   "source": [
    "fp=open('abd.txt',mode='r')\n",
    "data=fp.read()\n",
    "data"
   ],
   "id": "77548925a510266f",
   "execution_count": 71,
   "outputs": []
  },
  {
   "metadata": {
    "ExecuteTime": {
     "end_time": "2024-12-22T07:29:06.366582Z",
     "start_time": "2024-12-22T07:29:06.359693Z"
    }
   },
   "cell_type": "code",
   "source": "data.splitlines()",
   "id": "7742f929899d49a3",
   "execution_count": 75,
   "outputs": []
  },
  {
   "metadata": {
    "ExecuteTime": {
     "end_time": "2024-12-22T07:29:13.013633Z",
     "start_time": "2024-12-22T07:29:13.008622Z"
    }
   },
   "cell_type": "code",
   "source": "fp.close()",
   "id": "ac0832c22c2dafb2",
   "execution_count": 77,
   "outputs": []
  },
  {
   "metadata": {
    "ExecuteTime": {
     "end_time": "2024-12-22T07:29:25.208642Z",
     "start_time": "2024-12-22T07:29:25.203183Z"
    }
   },
   "cell_type": "code",
   "source": [
    "fp=open('abd.txt',mode='r')\n",
    "fp.readline()"
   ],
   "id": "dde3af80f11d3c00",
   "execution_count": 78,
   "outputs": []
  },
  {
   "metadata": {
    "ExecuteTime": {
     "end_time": "2024-12-22T07:29:34.650782Z",
     "start_time": "2024-12-22T07:29:34.645405Z"
    }
   },
   "cell_type": "code",
   "source": "fp.readline()",
   "id": "5f1d663af6828d38",
   "execution_count": 80,
   "outputs": []
  },
  {
   "metadata": {
    "ExecuteTime": {
     "end_time": "2024-12-22T07:29:46.517997Z",
     "start_time": "2024-12-22T07:29:46.514758Z"
    }
   },
   "cell_type": "code",
   "source": "fp.close()",
   "id": "a4337be59c1ac509",
   "execution_count": 82,
   "outputs": []
  },
  {
   "metadata": {
    "ExecuteTime": {
     "end_time": "2024-12-22T07:30:46.944267Z",
     "start_time": "2024-12-22T07:30:46.935395Z"
    }
   },
   "cell_type": "code",
   "source": [
    "fp=open('abd.txt',mode='r')\n",
    "fp.readlines()"
   ],
   "id": "ed134c9e17a5b726",
   "execution_count": 88,
   "outputs": []
  },
  {
   "metadata": {
    "ExecuteTime": {
     "end_time": "2024-12-22T07:30:54.288901Z",
     "start_time": "2024-12-22T07:30:54.284900Z"
    }
   },
   "cell_type": "code",
   "source": "fp.close()",
   "id": "7f920eb74d4e6b5b",
   "execution_count": 90,
   "outputs": []
  },
  {
   "metadata": {
    "ExecuteTime": {
     "end_time": "2024-12-22T07:31:21.665519Z",
     "start_time": "2024-12-22T07:31:21.659212Z"
    }
   },
   "cell_type": "code",
   "source": [
    "with open('abd.txt',mode='r') as fp:\n",
    "    print(fp.readlines())"
   ],
   "id": "3085dd9562c75c1a",
   "execution_count": 94,
   "outputs": []
  },
  {
   "metadata": {
    "ExecuteTime": {
     "end_time": "2024-12-22T07:36:25.056325Z",
     "start_time": "2024-12-22T07:36:25.049323Z"
    }
   },
   "cell_type": "code",
   "source": [
    "import csv\n",
    "with open('data.csv','r') as fp:\n",
    "    for i in csv.reader(fp):\n",
    "        print(i)    "
   ],
   "id": "2d84b5825eb18256",
   "execution_count": 102,
   "outputs": []
  },
  {
   "metadata": {
    "ExecuteTime": {
     "end_time": "2024-12-22T07:38:49.656019Z",
     "start_time": "2024-12-22T07:38:49.650008Z"
    }
   },
   "cell_type": "code",
   "source": [
    "with open('data.csv',mode='a',newline=\"\") as fp:\n",
    "    w=csv.writer(fp)\n",
    "    w.writerow(\n",
    "['1001', 'John Doe', 'Wireless Mouse', 'Electronics', '2', '25.50', '2024-01-15']\n",
    ")\n",
    "    \n",
    "    "
   ],
   "id": "940d72a8f7261f65",
   "execution_count": 108,
   "outputs": []
  },
  {
   "metadata": {
    "ExecuteTime": {
     "end_time": "2024-12-22T08:36:33.624492Z",
     "start_time": "2024-12-22T08:36:33.619437Z"
    }
   },
   "cell_type": "code",
   "source": [
    "with open('abd.txt',mode='r') as fp:\n",
    "    fp.readline()\n",
    "    s=fp.tell()\n",
    "    fp.readline()\n",
    "    print(fp.tell())\n",
    "    fp.readline()\n",
    "    print(fp.tell())\n",
    "    fp.seek(s)\n",
    "    "
   ],
   "id": "6384977f80cda51f",
   "execution_count": 115,
   "outputs": []
  }
 ],
 "metadata": {
  "kernelspec": {
   "display_name": "Python 3 (ipykernel)",
   "language": "python",
   "name": "python3"
  },
  "language_info": {
   "codemirror_mode": {
    "name": "ipython",
    "version": 3
   },
   "file_extension": ".py",
   "mimetype": "text/x-python",
   "name": "python",
   "nbconvert_exporter": "python",
   "pygments_lexer": "ipython3",
   "version": "3.12.0"
  },
  "widgets": {
   "application/vnd.jupyter.widget-state+json": {
    "state": {},
    "version_major": 2,
    "version_minor": 0
   }
  }
 },
 "nbformat": 4,
 "nbformat_minor": 5
}
